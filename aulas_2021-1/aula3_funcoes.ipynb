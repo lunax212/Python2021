{
  "nbformat": 4,
  "nbformat_minor": 0,
  "metadata": {
    "kernelspec": {
      "display_name": "Python 3",
      "language": "python",
      "name": "python3"
    },
    "language_info": {
      "codemirror_mode": {
        "name": "ipython",
        "version": 3
      },
      "file_extension": ".py",
      "mimetype": "text/x-python",
      "name": "python",
      "nbconvert_exporter": "python",
      "pygments_lexer": "ipython3",
      "version": "3.6.4"
    },
    "colab": {
      "name": "aula3_funcoes.ipynb",
      "provenance": [],
      "include_colab_link": true
    }
  },
  "cells": [
    {
      "cell_type": "markdown",
      "metadata": {
        "id": "view-in-github",
        "colab_type": "text"
      },
      "source": [
        "<a href=\"https://colab.research.google.com/github/lunax212/Python2021/blob/Exercicios/aulas_2021-1/aula3_funcoes.ipynb\" target=\"_parent\"><img src=\"https://colab.research.google.com/assets/colab-badge.svg\" alt=\"Open In Colab\"/></a>"
      ]
    },
    {
      "cell_type": "markdown",
      "metadata": {
        "id": "pwg7grL_1QAX"
      },
      "source": [
        "# AVISO\n",
        "\n",
        "Essa aula é toda baseada no livro \"Think Python\". \n",
        "\n",
        "A versão em português do livro está disponível nesse link: https://penseallen.github.io/PensePython2e/"
      ]
    },
    {
      "cell_type": "markdown",
      "metadata": {
        "id": "mLdU4EFy1QAa"
      },
      "source": [
        "# Funções"
      ]
    },
    {
      "cell_type": "markdown",
      "metadata": {
        "id": "HlUBtJ661QAe"
      },
      "source": [
        "Em programação, uma **função é uma sequência de declarações**, à qual atribuímos um nome, que realiza uma tarefa.\n",
        "\n",
        "Ao criar uma função, deve-se especificar o nome da função e a sequência de declarações.\n",
        "\n",
        "## Chamada de funções\n",
        "Já vimos pelo menos um exemplo de chamada de função:"
      ]
    },
    {
      "cell_type": "code",
      "metadata": {
        "id": "HhR2W5tH1QAh",
        "outputId": "fcad8ffd-34eb-45fd-9f17-b636897d4e4c",
        "colab": {
          "base_uri": "https://localhost:8080/"
        }
      },
      "source": [
        "type(40)"
      ],
      "execution_count": 1,
      "outputs": [
        {
          "output_type": "execute_result",
          "data": {
            "text/plain": [
              "int"
            ]
          },
          "metadata": {},
          "execution_count": 1
        }
      ]
    },
    {
      "cell_type": "markdown",
      "metadata": {
        "id": "fU53FlDA1QA4"
      },
      "source": [
        "* **nome** da função: *type*\n",
        "* **argumento**: 40\n",
        "* **valor de retorno** da função: é o resultado que a função retorna. Nesse exemplo, a função de nome *type*, retorna o tipo do *argumento* passado na função."
      ]
    },
    {
      "cell_type": "markdown",
      "metadata": {
        "id": "mDK2ARCC1QA6"
      },
      "source": [
        "## Funções de conversão de tipo\n",
        "O Python fornece funções internas (*built-in*) que convertem valores de um tipo para outro ==> **casting**. \n",
        "A função *int* recebe qualquer valor e o converte em um inteiro, se puder:"
      ]
    },
    {
      "cell_type": "code",
      "metadata": {
        "id": "-B_1Qjp61QA8",
        "outputId": "51268c96-bc95-47da-e2f4-addddf215592",
        "colab": {
          "base_uri": "https://localhost:8080/"
        }
      },
      "source": [
        "int(2.8)"
      ],
      "execution_count": 2,
      "outputs": [
        {
          "output_type": "execute_result",
          "data": {
            "text/plain": [
              "2"
            ]
          },
          "metadata": {},
          "execution_count": 2
        }
      ]
    },
    {
      "cell_type": "markdown",
      "metadata": {
        "id": "ZGfKybYY1QBD"
      },
      "source": [
        "ou reclama quando não é possível fazer a conversão:"
      ]
    },
    {
      "cell_type": "code",
      "metadata": {
        "id": "mKIa4eSZ1QBF",
        "outputId": "53280620-fc99-4e29-aae3-df7b375e0f68",
        "colab": {
          "base_uri": "https://localhost:8080/",
          "height": 163
        }
      },
      "source": [
        "int('Oi')"
      ],
      "execution_count": 4,
      "outputs": [
        {
          "output_type": "error",
          "ename": "ValueError",
          "evalue": "ignored",
          "traceback": [
            "\u001b[0;31m---------------------------------------------------------------------------\u001b[0m",
            "\u001b[0;31mValueError\u001b[0m                                Traceback (most recent call last)",
            "\u001b[0;32m<ipython-input-4-fe057eac90f9>\u001b[0m in \u001b[0;36m<module>\u001b[0;34m()\u001b[0m\n\u001b[0;32m----> 1\u001b[0;31m \u001b[0mint\u001b[0m\u001b[0;34m(\u001b[0m\u001b[0;34m'Oi'\u001b[0m\u001b[0;34m)\u001b[0m\u001b[0;34m\u001b[0m\u001b[0;34m\u001b[0m\u001b[0m\n\u001b[0m",
            "\u001b[0;31mValueError\u001b[0m: invalid literal for int() with base 10: 'Oi'"
          ]
        }
      ]
    },
    {
      "cell_type": "markdown",
      "metadata": {
        "id": "MHzcwLue1QBM"
      },
      "source": [
        "A função *float* converte inteiros e strings em *floats*:"
      ]
    },
    {
      "cell_type": "code",
      "metadata": {
        "id": "HXHGdTKS1QBM",
        "outputId": "4f85acf9-e1c0-4ada-9732-174c8e6ab6f4",
        "colab": {
          "base_uri": "https://localhost:8080/"
        }
      },
      "source": [
        "float(32)"
      ],
      "execution_count": 5,
      "outputs": [
        {
          "output_type": "execute_result",
          "data": {
            "text/plain": [
              "32.0"
            ]
          },
          "metadata": {},
          "execution_count": 5
        }
      ]
    },
    {
      "cell_type": "code",
      "metadata": {
        "id": "DohGLVAN1QBT",
        "outputId": "e93ef121-54aa-4d0b-9f2d-6bd3dc0e1994",
        "colab": {
          "base_uri": "https://localhost:8080/"
        }
      },
      "source": [
        "float('3.14159')"
      ],
      "execution_count": 6,
      "outputs": [
        {
          "output_type": "execute_result",
          "data": {
            "text/plain": [
              "3.14159"
            ]
          },
          "metadata": {},
          "execution_count": 6
        }
      ]
    },
    {
      "cell_type": "markdown",
      "metadata": {
        "id": "zb2XGEGV1QBa"
      },
      "source": [
        "A função *str* converte seu argumento em *strings*:"
      ]
    },
    {
      "cell_type": "code",
      "metadata": {
        "id": "xjNfzXpx1QBb",
        "outputId": "4cfbc8c5-eeda-4ac3-bad9-7405c85f35a3",
        "colab": {
          "base_uri": "https://localhost:8080/",
          "height": 35
        }
      },
      "source": [
        "str(32)"
      ],
      "execution_count": 7,
      "outputs": [
        {
          "output_type": "execute_result",
          "data": {
            "application/vnd.google.colaboratory.intrinsic+json": {
              "type": "string"
            },
            "text/plain": [
              "'32'"
            ]
          },
          "metadata": {},
          "execution_count": 7
        }
      ]
    },
    {
      "cell_type": "code",
      "metadata": {
        "id": "YtLFg9Eo1QBg",
        "outputId": "47fc541c-7ba2-4d36-ef48-e382e7b62978",
        "colab": {
          "base_uri": "https://localhost:8080/",
          "height": 35
        }
      },
      "source": [
        "str(3.14159)"
      ],
      "execution_count": 8,
      "outputs": [
        {
          "output_type": "execute_result",
          "data": {
            "application/vnd.google.colaboratory.intrinsic+json": {
              "type": "string"
            },
            "text/plain": [
              "'3.14159'"
            ]
          },
          "metadata": {},
          "execution_count": 8
        }
      ]
    },
    {
      "cell_type": "markdown",
      "metadata": {
        "id": "6QsSxOS21QBk"
      },
      "source": [
        "## Funções matemáticas"
      ]
    },
    {
      "cell_type": "markdown",
      "metadata": {
        "id": "YkHesDWl1QBl"
      },
      "source": [
        "O Python possui um **módulo matemático** que fornece a maioria das funções matemáticas familiares. \n",
        "\n",
        "Um **módulo** de python é um arquivo que contém uma coleção de funções relacionadas.\n",
        "\n",
        "Antes de poder usar um certo módulo, temos que ***importá-lo***:"
      ]
    },
    {
      "cell_type": "code",
      "metadata": {
        "id": "Q4IuIinn1QBm"
      },
      "source": [
        "import math"
      ],
      "execution_count": 9,
      "outputs": []
    },
    {
      "cell_type": "markdown",
      "metadata": {
        "id": "VFzSYW3Q1QBr"
      },
      "source": [
        "A declaração acima **cria um objeto de módulo** chamado **math**.\n",
        "\n",
        "Você pode imprimir o objeto de módulo:"
      ]
    },
    {
      "cell_type": "code",
      "metadata": {
        "id": "P7qIO1Fo1QBs",
        "outputId": "22898842-01d8-4461-bbc4-d67d1e0351ec",
        "colab": {
          "base_uri": "https://localhost:8080/"
        }
      },
      "source": [
        "print(math)"
      ],
      "execution_count": 10,
      "outputs": [
        {
          "output_type": "stream",
          "name": "stdout",
          "text": [
            "<module 'math' (built-in)>\n"
          ]
        }
      ]
    },
    {
      "cell_type": "markdown",
      "metadata": {
        "id": "B6mCKwrq1QBx"
      },
      "source": [
        "O objeto do módulo contém as funções e variáveis definidas no módulo. \n",
        "\n",
        "Para acessar uma das funções do módulo usamos a seguinte expressão:\n",
        "\n",
        "* *nome_do_objeto_do_modulo**.**nome_da_funcao*\n",
        "\n",
        "\n",
        "Esse formato é chamado de **notação de ponto**."
      ]
    },
    {
      "cell_type": "code",
      "metadata": {
        "id": "KQuTc56J1QBx",
        "outputId": "7b2ac6cd-5bee-4a5d-a248-fd674de75d73",
        "colab": {
          "base_uri": "https://localhost:8080/"
        }
      },
      "source": [
        "import math\n",
        "cateto_oposto = 4\n",
        "cateto_adjacente = 2\n",
        "tg_theta = cateto_oposto/cateto_adjacente\n",
        "theta = math.atan(tg_theta)\n",
        "print(theta, 'em radianos')"
      ],
      "execution_count": 11,
      "outputs": [
        {
          "output_type": "stream",
          "name": "stdout",
          "text": [
            "1.1071487177940904 em radianos\n"
          ]
        }
      ]
    },
    {
      "cell_type": "markdown",
      "metadata": {
        "id": "8_u13RST1QB1"
      },
      "source": [
        "As funções trigonométricas pegam os argumentos em radianos.\n",
        "\n",
        "Podemos converter de radianos para graus com uma função do objeto de módulo:"
      ]
    },
    {
      "cell_type": "code",
      "metadata": {
        "id": "aGEWEuvk1QB3",
        "outputId": "275e5c4f-b7a0-4eb6-c244-a04e5faac55d",
        "colab": {
          "base_uri": "https://localhost:8080/"
        }
      },
      "source": [
        "math.degrees(theta)"
      ],
      "execution_count": 12,
      "outputs": [
        {
          "output_type": "execute_result",
          "data": {
            "text/plain": [
              "63.43494882292201"
            ]
          },
          "metadata": {},
          "execution_count": 12
        }
      ]
    },
    {
      "cell_type": "markdown",
      "metadata": {
        "id": "eWa85ov41QB7"
      },
      "source": [
        "Ou:"
      ]
    },
    {
      "cell_type": "code",
      "metadata": {
        "id": "vb5XyQGs1QB7",
        "outputId": "90d6aaca-35ba-4b0d-ad7a-dac9a601088f",
        "colab": {
          "base_uri": "https://localhost:8080/"
        }
      },
      "source": [
        "theta_graus = theta*180/math.pi\n",
        "print(theta_graus)"
      ],
      "execution_count": 13,
      "outputs": [
        {
          "output_type": "stream",
          "name": "stdout",
          "text": [
            "63.43494882292201\n"
          ]
        }
      ]
    },
    {
      "cell_type": "markdown",
      "metadata": {
        "id": "IZEpn9H71QCA"
      },
      "source": [
        "Acessamos o valor de $\\pi$ determinado no módulo matemático através da variável math.pi. O valor dessa variável é uma aproximação de π, com precisão de cerca de 15 dígitos."
      ]
    },
    {
      "cell_type": "markdown",
      "metadata": {
        "id": "aQ6v8Xmh1QCA"
      },
      "source": [
        "**Exercício:** Quantos graus tem o ângulo $\\theta$ correspondente a $cos\\theta = \\sqrt2/2$ ?"
      ]
    },
    {
      "cell_type": "code",
      "metadata": {
        "id": "6WG3jCgl1QCB",
        "outputId": "cbfd931f-aa2b-4371-993f-568fa446d7d0",
        "colab": {
          "base_uri": "https://localhost:8080/"
        }
      },
      "source": [
        "math.degrees(math.acos(math.sqrt(2)/2))"
      ],
      "execution_count": 14,
      "outputs": [
        {
          "output_type": "execute_result",
          "data": {
            "text/plain": [
              "45.0"
            ]
          },
          "metadata": {},
          "execution_count": 14
        }
      ]
    },
    {
      "cell_type": "markdown",
      "metadata": {
        "id": "21R0vYBn1QCG"
      },
      "source": [
        "## Composição\n",
        "\n",
        "Até agora, analisamos os elementos de um programa - variáveis, expressões e declarações - isoladamente, sem falar sobre como combiná-los.\n",
        "\n",
        "Um dos recursos mais úteis das linguagens de programação é a capacidade de usar blocos de construção pequenos e **compô-los**. \n",
        "\n",
        "Por exemplo, ***o argumento de uma função pode ser qualquer tipo de expressão***, incluindo operadores aritméticos:"
      ]
    },
    {
      "cell_type": "code",
      "metadata": {
        "id": "eZt4ODl81QCG",
        "outputId": "90a89c89-6cf5-4b04-b5fa-454fc65f5e6d",
        "colab": {
          "base_uri": "https://localhost:8080/"
        }
      },
      "source": [
        "x = math.sin((theta_graus/360.0) * 2 * math.pi)\n",
        "print(x)"
      ],
      "execution_count": 15,
      "outputs": [
        {
          "output_type": "stream",
          "name": "stdout",
          "text": [
            "0.8944271909999159\n"
          ]
        }
      ]
    },
    {
      "cell_type": "markdown",
      "metadata": {
        "id": "dT-kDloC1QCL"
      },
      "source": [
        "E até mesmo chamadas de função:"
      ]
    },
    {
      "cell_type": "code",
      "metadata": {
        "id": "LSpJCZYa1QCM",
        "outputId": "05114b55-5dc5-4096-ab10-c6dc69385f31",
        "colab": {
          "base_uri": "https://localhost:8080/"
        }
      },
      "source": [
        "x2 = math.sin(math.radians(theta_graus))\n",
        "print(x2)"
      ],
      "execution_count": 16,
      "outputs": [
        {
          "output_type": "stream",
          "name": "stdout",
          "text": [
            "0.8944271909999159\n"
          ]
        }
      ]
    },
    {
      "cell_type": "markdown",
      "metadata": {
        "id": "kHnjlfxC1QCP"
      },
      "source": [
        "* **Em quase todo lugar onde é possível usar um valor, também é possível usar uma expressão arbitrária**\n",
        "* Porém, o lado esquerdo de uma **declaração de atribuição** deve ser sempre um ***nome de variável***. "
      ]
    },
    {
      "cell_type": "code",
      "metadata": {
        "id": "Rvisg2GJ1QCQ"
      },
      "source": [
        "horas = 2\n",
        "minutos = horas * 60"
      ],
      "execution_count": 17,
      "outputs": []
    },
    {
      "cell_type": "code",
      "metadata": {
        "id": "abEXT41C1QCT",
        "outputId": "ab244862-175c-41c9-deb0-53066cdfd0e7",
        "colab": {
          "base_uri": "https://localhost:8080/",
          "height": 129
        }
      },
      "source": [
        "horas * 60 = minutos "
      ],
      "execution_count": 27,
      "outputs": [
        {
          "output_type": "error",
          "ename": "SyntaxError",
          "evalue": "ignored",
          "traceback": [
            "\u001b[0;36m  File \u001b[0;32m\"<ipython-input-27-30179fa6741f>\"\u001b[0;36m, line \u001b[0;32m1\u001b[0m\n\u001b[0;31m    horas * 60 = minutos\u001b[0m\n\u001b[0m                         ^\u001b[0m\n\u001b[0;31mSyntaxError\u001b[0m\u001b[0;31m:\u001b[0m can't assign to operator\n"
          ]
        }
      ]
    },
    {
      "cell_type": "markdown",
      "metadata": {
        "id": "GgzIdBUC1QCX"
      },
      "source": [
        "## Adicionando novas funções\n",
        "\n",
        "* Até agora, só usamos as funções do Python, mas também é possível adicionar novas funções. \n",
        "* Para definir uma função, é necessário:\n",
        "   * determinar o nome da função \n",
        "   * determinar a sequência de instruções a serem executadas quando a função é chamada.\n",
        "\n",
        "A sintaxe para a definição de uma função é:"
      ]
    },
    {
      "cell_type": "code",
      "metadata": {
        "id": "YcNtfvb41QCY"
      },
      "source": [
        "def nome_da_funcao(argumentos_da_funcao):   #cabeçário (header) da função\n",
        "    declaracao = 'esse é o CORPO da função. É onde são feitas as declarações da função'  # as declarações da funções devem ser INDENTADAS."
      ],
      "execution_count": 28,
      "outputs": []
    },
    {
      "cell_type": "markdown",
      "metadata": {
        "id": "Du2f83Qm1QCb"
      },
      "source": [
        "Um exemplo de função:"
      ]
    },
    {
      "cell_type": "code",
      "metadata": {
        "id": "N6Y4EIhT1QCd"
      },
      "source": [
        "def print_poema():\n",
        "    print('Caminante, no hay camino,')\n",
        "    print('se hace camino al andar.')"
      ],
      "execution_count": 29,
      "outputs": []
    },
    {
      "cell_type": "markdown",
      "metadata": {
        "id": "sElRdIgU1QCg"
      },
      "source": [
        "Ao definir uma função, se cria uma variável com o mesmo nome."
      ]
    },
    {
      "cell_type": "code",
      "metadata": {
        "id": "MCykAjJg1QCg",
        "outputId": "2cf7f718-d3b8-498c-bfad-aaad63e697a0",
        "colab": {
          "base_uri": "https://localhost:8080/"
        }
      },
      "source": [
        "print(print_poema)"
      ],
      "execution_count": 30,
      "outputs": [
        {
          "output_type": "stream",
          "name": "stdout",
          "text": [
            "<function print_poema at 0x7f02d0c230e0>\n"
          ]
        }
      ]
    },
    {
      "cell_type": "code",
      "metadata": {
        "id": "Dm9uEFR51QCl",
        "outputId": "6bad73c8-25ff-4be9-9294-e7632d3fdb25",
        "colab": {
          "base_uri": "https://localhost:8080/"
        }
      },
      "source": [
        "type(print_poema)"
      ],
      "execution_count": 31,
      "outputs": [
        {
          "output_type": "execute_result",
          "data": {
            "text/plain": [
              "function"
            ]
          },
          "metadata": {},
          "execution_count": 31
        }
      ]
    },
    {
      "cell_type": "markdown",
      "metadata": {
        "id": "0W3Nn6Q-1QCo"
      },
      "source": [
        "O valor de print_poema é um **objeto de função**, que possui o ***tipo*** 'function'.\n",
        "\n",
        "A sintaxe para chamar a nova função é a mesma das funções integradas (built-in):"
      ]
    },
    {
      "cell_type": "code",
      "metadata": {
        "id": "WBBbS-ov1QCp",
        "outputId": "c7bf97d5-cddd-4b7b-b18d-a9de3a9c5b1c",
        "colab": {
          "base_uri": "https://localhost:8080/"
        }
      },
      "source": [
        "print_poema()"
      ],
      "execution_count": 32,
      "outputs": [
        {
          "output_type": "stream",
          "name": "stdout",
          "text": [
            "Caminante, no hay camino,\n",
            "se hace camino al andar.\n"
          ]
        }
      ]
    },
    {
      "cell_type": "markdown",
      "metadata": {
        "id": "AuwQKBc91QCt"
      },
      "source": [
        "Uma vez definida a função, podemos usá-la dentro de outra função:"
      ]
    },
    {
      "cell_type": "code",
      "metadata": {
        "id": "eOFu6mFD1QCt"
      },
      "source": [
        "def verso_poema():\n",
        "    print('Caminante, son tus huellas')\n",
        "    print('el camino y nada más;')\n",
        "    \n",
        "    print_poema()\n",
        "    \n",
        "    print('Al andar se hace el camino,')\n",
        "    print('y al volver la vista atrás,')\n",
        "    print('se ve la senda que nunca')\n",
        "    print('se ha de volver a pisar.')\n",
        "    print('Caminante no hay camino')\n",
        "    print('sino estelas en la mar.')"
      ],
      "execution_count": 33,
      "outputs": []
    },
    {
      "cell_type": "markdown",
      "metadata": {
        "id": "0sDYw-NV1QCw"
      },
      "source": [
        "E chamá-la:"
      ]
    },
    {
      "cell_type": "code",
      "metadata": {
        "id": "bbW8FkNX1QCw",
        "outputId": "fa8f04c1-d696-41be-895e-fb7a65bde490",
        "colab": {
          "base_uri": "https://localhost:8080/"
        }
      },
      "source": [
        "verso_poema()"
      ],
      "execution_count": 34,
      "outputs": [
        {
          "output_type": "stream",
          "name": "stdout",
          "text": [
            "Caminante, son tus huellas\n",
            "el camino y nada más;\n",
            "Caminante, no hay camino,\n",
            "se hace camino al andar.\n",
            "Al andar se hace el camino,\n",
            "y al volver la vista atrás,\n",
            "se ve la senda que nunca\n",
            "se ha de volver a pisar.\n",
            "Caminante no hay camino\n",
            "sino estelas en la mar.\n"
          ]
        }
      ]
    },
    {
      "cell_type": "markdown",
      "metadata": {
        "id": "RG7Ibl4j1QCz"
      },
      "source": [
        "## Definições e usos\n",
        "\n",
        "Até agora, definimos duas funções e as chamamos. \n",
        "Ao colocarmos as funções e chamada em um programa, temos:"
      ]
    },
    {
      "cell_type": "code",
      "metadata": {
        "id": "0ZHgmqH-1QC1",
        "outputId": "79e30780-3074-464a-975f-78529dc4df04",
        "colab": {
          "base_uri": "https://localhost:8080/"
        }
      },
      "source": [
        "def print_poema():\n",
        "    print('Caminante, no hay camino,')\n",
        "    print('se hace camino al andar.')\n",
        "    \n",
        "def verso_poema():\n",
        "    print('Caminante, son tus huellas')\n",
        "    print('el camino y nada más;')\n",
        "    \n",
        "    print_poema()\n",
        "    \n",
        "    print('Al andar se hace el camino,')\n",
        "    print('y al volver la vista atrás,')\n",
        "    print('se ve la senda que nunca')\n",
        "    print('se ha de volver a pisar.')\n",
        "    print('Caminante no hay camino')\n",
        "    print('sino estelas en la mar.')\n",
        "\n",
        "verso_poema()"
      ],
      "execution_count": 35,
      "outputs": [
        {
          "output_type": "stream",
          "name": "stdout",
          "text": [
            "Caminante, son tus huellas\n",
            "el camino y nada más;\n",
            "Caminante, no hay camino,\n",
            "se hace camino al andar.\n",
            "Al andar se hace el camino,\n",
            "y al volver la vista atrás,\n",
            "se ve la senda que nunca\n",
            "se ha de volver a pisar.\n",
            "Caminante no hay camino\n",
            "sino estelas en la mar.\n"
          ]
        }
      ]
    },
    {
      "cell_type": "markdown",
      "metadata": {
        "id": "-cd69H651QC3"
      },
      "source": [
        "***Este programa contém duas definições de função: print_poema e verso_poema.*** \n",
        "\n",
        "* As definições de função são executadas exatamente como outras instruções, mas o efeito é criar ***objetos de função***. \n",
        "* As instruções dentro da função só são executadas quando a função é chamada.\n",
        "* Somente a definição (sem a chamada) da função não gera saída.\n",
        "\n",
        "\n",
        "\n",
        "* A função deve ser definida **antes** de poder ser executada. "
      ]
    },
    {
      "cell_type": "markdown",
      "metadata": {
        "id": "kAzo_U0J1QC4"
      },
      "source": [
        "## Exercícios:\n",
        "1. Crie uma funcão que tome um argumento e imprima o valor e o tipo dele.\n",
        "1. Crie uma função que calcule e imprima velocidade media de um objeto a partir de uma posição inicial, a final e o tempo transcorrido para um objeto em MRU. Também crie uma funcão que calcule e imprima a velocidade de um objeto a partir da aceleração constante e o tempo (MRUA) (p.ex. queda libre).\n",
        "1. Crie uma funcão para calcular o ángulo zenital do sol (da semana passada) tomando como argumento as medidas da altura e o comprimento da sombra.\n",
        "1. Crie uma função que faça a conversão de uma medida inicialmente em milhas para m, e outra para o inverso; uma de horas para segundos, e o inverso. Utilize estas funções para resolver novamente o primeiro exercício da semana passada (da corrida). Se uma pessoa demora 30 minutos em 4 milhas, qual velocidade media em km/h ? e o tempo medio por kilometro?\n",
        "1. Crie funções para calcular os outros exemplos das aulas anteriores: IMC, volume de uma esfera, distancia entre pontos de máximos de difração. Decida quais serão os argumentos e o valor retornado.\n"
      ]
    },
    {
      "cell_type": "markdown",
      "metadata": {
        "id": "ZkQ29BXhjnCf"
      },
      "source": [
        "# Exercicio- 1"
      ]
    },
    {
      "cell_type": "code",
      "metadata": {
        "id": "TAk6IpdolN1N"
      },
      "source": [
        "def print_cumprimento():\n",
        "    print(\"ola, bom dia\")\n",
        "    print(\"como vai?\")\n",
        "\n",
        "  "
      ],
      "execution_count": 48,
      "outputs": []
    },
    {
      "cell_type": "code",
      "metadata": {
        "id": "Gmmuhe17ydnT",
        "outputId": "cb63c77f-2994-4b4e-9a25-562ff91a72ae",
        "colab": {
          "base_uri": "https://localhost:8080/"
        }
      },
      "source": [
        "print(print_cumprimento)"
      ],
      "execution_count": 50,
      "outputs": [
        {
          "output_type": "stream",
          "name": "stdout",
          "text": [
            "<function print_cumprimento at 0x7f02d0b19cb0>\n"
          ]
        }
      ]
    },
    {
      "cell_type": "code",
      "metadata": {
        "id": "LG6U7Wdt5eA8",
        "outputId": "8aeb2dec-85cf-47aa-c139-aaa27c60a476",
        "colab": {
          "base_uri": "https://localhost:8080/"
        }
      },
      "source": [
        "type(print_cumprimento)"
      ],
      "execution_count": 51,
      "outputs": [
        {
          "output_type": "execute_result",
          "data": {
            "text/plain": [
              "function"
            ]
          },
          "metadata": {},
          "execution_count": 51
        }
      ]
    },
    {
      "cell_type": "code",
      "metadata": {
        "id": "qCbwYwGr5kvS",
        "outputId": "6dba2235-3cb7-485e-92f3-670d4b8d5ba2",
        "colab": {
          "base_uri": "https://localhost:8080/"
        }
      },
      "source": [
        "print_cumprimento()"
      ],
      "execution_count": 54,
      "outputs": [
        {
          "output_type": "stream",
          "name": "stdout",
          "text": [
            "ola, bom dia\n",
            "como vai?\n"
          ]
        }
      ]
    }
  ]
}