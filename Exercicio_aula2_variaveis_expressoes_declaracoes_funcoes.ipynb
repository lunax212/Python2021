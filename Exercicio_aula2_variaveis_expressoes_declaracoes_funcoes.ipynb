{
  "nbformat": 4,
  "nbformat_minor": 0,
  "metadata": {
    "kernelspec": {
      "display_name": "Python 3",
      "language": "python",
      "name": "python3"
    },
    "language_info": {
      "codemirror_mode": {
        "name": "ipython",
        "version": 3
      },
      "file_extension": ".py",
      "mimetype": "text/x-python",
      "name": "python",
      "nbconvert_exporter": "python",
      "pygments_lexer": "ipython3",
      "version": "3.7.0"
    },
    "colab": {
      "name": "Copy of aula2_variaveis_expressoes_declaracoes_funcoes.ipynb",
      "provenance": [],
      "collapsed_sections": [
        "ovDMJX2TyAlZ",
        "VKVkWHALyAli",
        "fhVLq2sGyAll",
        "1D7bGyTuyAlr",
        "xLQU58LJyAl8",
        "9K0YVGLjyAmA",
        "LDYykqsryAmT",
        "5w0g3eItyAmZ",
        "t9JkW-fLyAmc",
        "LIEmLrEiyAmg",
        "Pg2nZDTayAmq",
        "ApWStk60yAm4",
        "Vz8GxGVqyAm5",
        "yvM-GLIOyAm6",
        "4S5d3rEkyAm9",
        "CmmYIGI7yAnP",
        "lY0k8SHNyAni"
      ],
      "include_colab_link": true
    }
  },
  "cells": [
    {
      "cell_type": "markdown",
      "metadata": {
        "id": "view-in-github",
        "colab_type": "text"
      },
      "source": [
        "<a href=\"https://colab.research.google.com/github/lunax212/Python2021/blob/Exercicios/Exercicio_aula2_variaveis_expressoes_declaracoes_funcoes.ipynb\" target=\"_parent\"><img src=\"https://colab.research.google.com/assets/colab-badge.svg\" alt=\"Open In Colab\"/></a>"
      ]
    },
    {
      "cell_type": "markdown",
      "metadata": {
        "id": "lelXyfLdyAko"
      },
      "source": [
        "Essa aula é uma tradução, com algumas poucas modificações, do livro online: ***\"Think Python: How to Think Like a Computer Scientist\", Allen B. Downey, Version 2.0.17***\n",
        "http://greenteapress.com/thinkpython2/html/index.html\n",
        "\n",
        "\n",
        "Existe também uma versão do livro em português: https://penseallen.github.io/PensePython2e/"
      ]
    },
    {
      "cell_type": "markdown",
      "metadata": {
        "id": "bJijrhpvyAkq"
      },
      "source": [
        "# Variáveis, expressões e declarações"
      ]
    },
    {
      "cell_type": "markdown",
      "metadata": {
        "id": "_bhRA5L9yAku"
      },
      "source": [
        "## Valores e tipos\n",
        "\n",
        "* **valor** : algo fundamental manipulado pelo programa\n",
        "   * letra\n",
        "   * número\n",
        "* **tipo** : classificação dos valores\n",
        "   * letra: string\n",
        "   * número: inteiro, float, bool\n",
        "\n",
        "#### String\n",
        "* o tipo string é *str* e é identificado por aspas"
      ]
    },
    {
      "cell_type": "code",
      "metadata": {
        "id": "RYRG4hz_yAkv",
        "colab": {
          "base_uri": "https://localhost:8080/",
          "height": 35
        },
        "outputId": "e2d1f7f1-95c0-470c-f867-e97ae806f29e"
      },
      "source": [
        "'letras'"
      ],
      "execution_count": null,
      "outputs": [
        {
          "output_type": "execute_result",
          "data": {
            "application/vnd.google.colaboratory.intrinsic+json": {
              "type": "string"
            },
            "text/plain": [
              "'letras'"
            ]
          },
          "metadata": {},
          "execution_count": 54
        }
      ]
    },
    {
      "cell_type": "markdown",
      "metadata": {
        "id": "cDzybOZLyAk1"
      },
      "source": [
        "#### Float\n",
        "* os números reais são representados pelo tipo de dados *float*"
      ]
    },
    {
      "cell_type": "code",
      "metadata": {
        "id": "B0jZHHaIyAk2",
        "colab": {
          "base_uri": "https://localhost:8080/"
        },
        "outputId": "a8216c4e-4eeb-4050-95e2-eeab046bff53"
      },
      "source": [
        "10.8"
      ],
      "execution_count": null,
      "outputs": [
        {
          "output_type": "execute_result",
          "data": {
            "text/plain": [
              "10.8"
            ]
          },
          "metadata": {},
          "execution_count": 55
        }
      ]
    },
    {
      "cell_type": "markdown",
      "metadata": {
        "id": "g2hnhSZKyAk5"
      },
      "source": [
        "Para saber o **tipo** de dados:"
      ]
    },
    {
      "cell_type": "code",
      "metadata": {
        "id": "rShNIDOGyAk6",
        "colab": {
          "base_uri": "https://localhost:8080/"
        },
        "outputId": "5d95c222-fa05-499a-db31-759123b40e6a"
      },
      "source": [
        "type('letras')"
      ],
      "execution_count": null,
      "outputs": [
        {
          "output_type": "execute_result",
          "data": {
            "text/plain": [
              "str"
            ]
          },
          "metadata": {},
          "execution_count": 56
        }
      ]
    },
    {
      "cell_type": "code",
      "metadata": {
        "id": "bgLmjbLzyAk-",
        "colab": {
          "base_uri": "https://localhost:8080/"
        },
        "outputId": "1f2620b6-daf1-4375-d22f-e6c09ced976a"
      },
      "source": [
        "type(10.8)"
      ],
      "execution_count": null,
      "outputs": [
        {
          "output_type": "execute_result",
          "data": {
            "text/plain": [
              "float"
            ]
          },
          "metadata": {},
          "execution_count": 57
        }
      ]
    },
    {
      "cell_type": "code",
      "metadata": {
        "id": "_ce8NeUqyAlC",
        "colab": {
          "base_uri": "https://localhost:8080/"
        },
        "outputId": "2c7a4935-1bb6-4829-c131-4e35e0a8006d"
      },
      "source": [
        "type(8)"
      ],
      "execution_count": null,
      "outputs": [
        {
          "output_type": "execute_result",
          "data": {
            "text/plain": [
              "int"
            ]
          },
          "metadata": {},
          "execution_count": 58
        }
      ]
    },
    {
      "cell_type": "code",
      "metadata": {
        "id": "3K2FzKtzyAlF",
        "colab": {
          "base_uri": "https://localhost:8080/"
        },
        "outputId": "29de8ce0-f517-46c3-aa9d-94e27db2c804"
      },
      "source": [
        "type('3.8')"
      ],
      "execution_count": null,
      "outputs": [
        {
          "output_type": "execute_result",
          "data": {
            "text/plain": [
              "str"
            ]
          },
          "metadata": {},
          "execution_count": 59
        }
      ]
    },
    {
      "cell_type": "markdown",
      "metadata": {
        "id": "AqGNnOVIyAlI"
      },
      "source": [
        "## Variáveis\n",
        "\n",
        "Uma **variável** é um nome que se refere a um **valor**.\n",
        "\n",
        "\n",
        "Uma **declaração de atribuição** de variáveis, cria novas variáveis e lhes atribui valores:"
      ]
    },
    {
      "cell_type": "code",
      "metadata": {
        "id": "eekgmp1XyAlJ"
      },
      "source": [
        "mensagem = 'Temos um número grande alunos inscritos na disciplina'"
      ],
      "execution_count": null,
      "outputs": []
    },
    {
      "cell_type": "code",
      "metadata": {
        "id": "7OeSFySfyAlM"
      },
      "source": [
        "n_alunos = 25"
      ],
      "execution_count": null,
      "outputs": []
    },
    {
      "cell_type": "code",
      "metadata": {
        "id": "Panrmk5NyAlP"
      },
      "source": [
        "pi = 3.1415926535897932"
      ],
      "execution_count": null,
      "outputs": []
    },
    {
      "cell_type": "code",
      "metadata": {
        "id": "ZrfHXsU0yAlR",
        "colab": {
          "base_uri": "https://localhost:8080/"
        },
        "outputId": "219a66a7-1583-48bc-f990-2e83dbb0f8f7"
      },
      "source": [
        "type(mensagem)"
      ],
      "execution_count": null,
      "outputs": [
        {
          "output_type": "execute_result",
          "data": {
            "text/plain": [
              "str"
            ]
          },
          "metadata": {},
          "execution_count": 63
        }
      ]
    },
    {
      "cell_type": "code",
      "metadata": {
        "id": "NTIHLjqCyAlU",
        "colab": {
          "base_uri": "https://localhost:8080/"
        },
        "outputId": "803ca643-286a-419f-ec1e-e6b22e420e7a"
      },
      "source": [
        "type(n_alunos)"
      ],
      "execution_count": null,
      "outputs": [
        {
          "output_type": "execute_result",
          "data": {
            "text/plain": [
              "int"
            ]
          },
          "metadata": {},
          "execution_count": 64
        }
      ]
    },
    {
      "cell_type": "code",
      "metadata": {
        "id": "Sjo05z0syAlW",
        "colab": {
          "base_uri": "https://localhost:8080/"
        },
        "outputId": "0c4df7ec-8f43-4db7-d4ec-cc81a59db69d"
      },
      "source": [
        "type(pi)"
      ],
      "execution_count": null,
      "outputs": [
        {
          "output_type": "execute_result",
          "data": {
            "text/plain": [
              "float"
            ]
          },
          "metadata": {},
          "execution_count": 65
        }
      ]
    },
    {
      "cell_type": "markdown",
      "metadata": {
        "id": "ovDMJX2TyAlZ"
      },
      "source": [
        "## Nomes de variáveis e palavras-chave\n",
        "Em geral, é de boa prática usarmos nomes de variáveis sugestivos.\n",
        "\n",
        "Nomes de variáveis podem ser arbitrariamente longos. Eles podem conter letras e números, mas **precisam começar com uma letra**. \n",
        "Pode-se usar letras maiúsculas, mas a diretriz de programação em Python é começar nomes de variáveis com letras minúsculas.\n",
        "\n",
        "O caractere *underline*, '_',  pode aparecer em um nome. É frequentemente usado em nomes com várias palavras, como *meu_nome* ou *massa_de_repouso*.\n",
        "\n",
        "Ao criar uma variável com um nome não permitido, haverá um erro de sintaxe:"
      ]
    },
    {
      "cell_type": "code",
      "metadata": {
        "id": "kNPMnzy1yAlZ",
        "colab": {
          "base_uri": "https://localhost:8080/",
          "height": 129
        },
        "outputId": "adf98015-532c-4b14-cc29-8259716c12a3"
      },
      "source": [
        "500mil_pessoas = 'multidao'"
      ],
      "execution_count": null,
      "outputs": [
        {
          "output_type": "error",
          "ename": "SyntaxError",
          "evalue": "ignored",
          "traceback": [
            "\u001b[0;36m  File \u001b[0;32m\"<ipython-input-67-20b6b75de348>\"\u001b[0;36m, line \u001b[0;32m1\u001b[0m\n\u001b[0;31m    500mil_pessoas = 'multidao'\u001b[0m\n\u001b[0m                 ^\u001b[0m\n\u001b[0;31mSyntaxError\u001b[0m\u001b[0;31m:\u001b[0m invalid syntax\n"
          ]
        }
      ]
    },
    {
      "cell_type": "code",
      "metadata": {
        "id": "hqHlckTuyAlc",
        "colab": {
          "base_uri": "https://localhost:8080/",
          "height": 129
        },
        "outputId": "307b7665-9bfe-48dd-8375-8d5ae34a2c32"
      },
      "source": [
        "milh@res = 10000 "
      ],
      "execution_count": null,
      "outputs": [
        {
          "output_type": "error",
          "ename": "SyntaxError",
          "evalue": "ignored",
          "traceback": [
            "\u001b[0;36m  File \u001b[0;32m\"<ipython-input-68-bf37c9c6512e>\"\u001b[0;36m, line \u001b[0;32m1\u001b[0m\n\u001b[0;31m    milh@res = 10000\u001b[0m\n\u001b[0m                     ^\u001b[0m\n\u001b[0;31mSyntaxError\u001b[0m\u001b[0;31m:\u001b[0m can't assign to operator\n"
          ]
        }
      ]
    },
    {
      "cell_type": "code",
      "metadata": {
        "id": "DbD14wyoyAlf",
        "colab": {
          "base_uri": "https://localhost:8080/",
          "height": 129
        },
        "outputId": "9fba5888-b457-45f9-b921-06ed8d08a380"
      },
      "source": [
        "class = 'Introdução a Python'"
      ],
      "execution_count": null,
      "outputs": [
        {
          "output_type": "error",
          "ename": "SyntaxError",
          "evalue": "ignored",
          "traceback": [
            "\u001b[0;36m  File \u001b[0;32m\"<ipython-input-69-6c404f2ec67c>\"\u001b[0;36m, line \u001b[0;32m1\u001b[0m\n\u001b[0;31m    class = 'Introdução a Python'\u001b[0m\n\u001b[0m          ^\u001b[0m\n\u001b[0;31mSyntaxError\u001b[0m\u001b[0;31m:\u001b[0m invalid syntax\n"
          ]
        }
      ]
    },
    {
      "cell_type": "markdown",
      "metadata": {
        "id": "VKVkWHALyAli"
      },
      "source": [
        "#### Palavras-chave de Python"
      ]
    },
    {
      "cell_type": "code",
      "metadata": {
        "id": "sWr9j7SEyAli",
        "colab": {
          "base_uri": "https://localhost:8080/"
        },
        "outputId": "c8ba97d9-dca4-443d-e216-665889bc9832"
      },
      "source": [
        "import keyword\n",
        "print(keyword.kwlist)"
      ],
      "execution_count": null,
      "outputs": [
        {
          "output_type": "stream",
          "name": "stdout",
          "text": [
            "['False', 'None', 'True', 'and', 'as', 'assert', 'async', 'await', 'break', 'class', 'continue', 'def', 'del', 'elif', 'else', 'except', 'finally', 'for', 'from', 'global', 'if', 'import', 'in', 'is', 'lambda', 'nonlocal', 'not', 'or', 'pass', 'raise', 'return', 'try', 'while', 'with', 'yield']\n"
          ]
        }
      ]
    },
    {
      "cell_type": "markdown",
      "metadata": {
        "id": "fhVLq2sGyAll"
      },
      "source": [
        "## Operadores e operandos\n",
        "* **Operadores**: símbolos especiais que representam cálculos como adição e multiplicação. \n",
        "* **Operandos**: valores aos quais o operador é aplicado.\n",
        "\n",
        "### Operadores:\n",
        "* adição: + \n",
        "* subtração: - \n",
        "* divisão: /\n",
        "* multiplicação: *\n",
        "* potência: **"
      ]
    },
    {
      "cell_type": "markdown",
      "metadata": {
        "id": "g0uSfIsQyAll"
      },
      "source": [
        "Em **python2**, a divisão de inteiros retorna um inteiro (**divisão de piso**). \n",
        "\n",
        "Porém, em **python3**, o resultado é um float:"
      ]
    },
    {
      "cell_type": "code",
      "metadata": {
        "id": "_a4fFXlxyAlm",
        "colab": {
          "base_uri": "https://localhost:8080/"
        },
        "outputId": "3405883b-83bb-47a7-c66f-b1ddfe01fe06"
      },
      "source": [
        "59/60"
      ],
      "execution_count": null,
      "outputs": [
        {
          "output_type": "execute_result",
          "data": {
            "text/plain": [
              "0.9833333333333333"
            ]
          },
          "metadata": {},
          "execution_count": 72
        }
      ]
    },
    {
      "cell_type": "code",
      "metadata": {
        "id": "nhHqhOAEyAlo",
        "colab": {
          "base_uri": "https://localhost:8080/"
        },
        "outputId": "91969034-056f-4ef5-cbec-392dae3d00e7"
      },
      "source": [
        "# Para divisão de piso em python3:\n",
        "59//60"
      ],
      "execution_count": null,
      "outputs": [
        {
          "output_type": "execute_result",
          "data": {
            "text/plain": [
              "0"
            ]
          },
          "metadata": {},
          "execution_count": 73
        }
      ]
    },
    {
      "cell_type": "markdown",
      "metadata": {
        "id": "1D7bGyTuyAlr"
      },
      "source": [
        "## Expressões e declarações\n",
        "Uma **expressão** é uma combinação de *valores*, *variáveis* e *operadores*. \n",
        "\n",
        "Um valor por si só é considerado uma expressão.\n",
        "\n",
        "Uma variável por si só também é considerada uma expressão.\n",
        "\n",
        "Exemplos de expressão:"
      ]
    },
    {
      "cell_type": "code",
      "metadata": {
        "id": "kjQ96wYiyAls",
        "colab": {
          "base_uri": "https://localhost:8080/"
        },
        "outputId": "757b7cea-c69b-4e7f-b9e7-1734a5de16db"
      },
      "source": [
        "n_alunos"
      ],
      "execution_count": null,
      "outputs": [
        {
          "output_type": "execute_result",
          "data": {
            "text/plain": [
              "25"
            ]
          },
          "metadata": {},
          "execution_count": 74
        }
      ]
    },
    {
      "cell_type": "code",
      "metadata": {
        "id": "ct3w6YuqyAlv",
        "colab": {
          "base_uri": "https://localhost:8080/"
        },
        "outputId": "1abcafc1-ac1f-4fd0-ba15-7f5cab6ea29c"
      },
      "source": [
        "20"
      ],
      "execution_count": null,
      "outputs": [
        {
          "output_type": "execute_result",
          "data": {
            "text/plain": [
              "20"
            ]
          },
          "metadata": {},
          "execution_count": 75
        }
      ]
    },
    {
      "cell_type": "code",
      "metadata": {
        "id": "tGsdE5X9yAl0",
        "colab": {
          "base_uri": "https://localhost:8080/"
        },
        "outputId": "0f69bc22-e47f-4756-982a-fae5985aca0f"
      },
      "source": [
        "n_alunos + 20"
      ],
      "execution_count": null,
      "outputs": [
        {
          "output_type": "execute_result",
          "data": {
            "text/plain": [
              "45"
            ]
          },
          "metadata": {},
          "execution_count": 76
        }
      ]
    },
    {
      "cell_type": "markdown",
      "metadata": {
        "id": "JwPi2FD6yAl2"
      },
      "source": [
        "Uma **declaração** é um pedaço de código que o interpretador de Python pode executar. \n",
        "Por exemplo, uma atribuição (*assignment*) também é uma declaração: "
      ]
    },
    {
      "cell_type": "code",
      "metadata": {
        "id": "ekbstHg3yAl2"
      },
      "source": [
        "x = 20"
      ],
      "execution_count": null,
      "outputs": []
    },
    {
      "cell_type": "code",
      "metadata": {
        "id": "OV7WnTOWyAl6",
        "colab": {
          "base_uri": "https://localhost:8080/"
        },
        "outputId": "2b24c0df-abb6-4bf7-e256-31990a4f703a"
      },
      "source": [
        "print(' \"print\" também é uma declaração')"
      ],
      "execution_count": null,
      "outputs": [
        {
          "output_type": "stream",
          "name": "stdout",
          "text": [
            " \"print\" também é uma declaração\n"
          ]
        }
      ]
    },
    {
      "cell_type": "markdown",
      "metadata": {
        "id": "JFrzoqa-4f7b"
      },
      "source": [
        "* Quando criamos uma **expressão** o interpretador **calcula** algo e obtém um resultado;\n",
        "* Ao criar uma **declaração**, o interpretador de Python precisa **executar** a declaração, que é atender ao comando da declaração. Em geral, declarações não precisam ter um resultado."
      ]
    },
    {
      "cell_type": "markdown",
      "metadata": {
        "id": "xLQU58LJyAl8"
      },
      "source": [
        "### Exercício\n",
        "Digite as seguintes expressões e/ou declarações no prompt e veja o que elas fazem:\n",
        "* 5\n",
        "* x = 5\n",
        "* x + 1\n",
        "\n",
        "Em seguida, escreva um script com as declarações e compare a saída do script e do prompt. Modifique o script para que as saídas (do script e prompt) sejam iguais."
      ]
    },
    {
      "cell_type": "code",
      "metadata": {
        "id": "LE6WbfsU9L3g",
        "colab": {
          "base_uri": "https://localhost:8080/"
        },
        "outputId": "5d4ffca8-d207-44a1-e848-e812c430cf0b"
      },
      "source": [
        "5"
      ],
      "execution_count": null,
      "outputs": [
        {
          "output_type": "execute_result",
          "data": {
            "text/plain": [
              "5"
            ]
          },
          "metadata": {},
          "execution_count": 79
        }
      ]
    },
    {
      "cell_type": "code",
      "metadata": {
        "id": "_cEqIa_VDJ7p"
      },
      "source": [
        "x = 5"
      ],
      "execution_count": null,
      "outputs": []
    },
    {
      "cell_type": "code",
      "metadata": {
        "id": "JshLSsPBDMim",
        "colab": {
          "base_uri": "https://localhost:8080/"
        },
        "outputId": "f4658f88-d012-46be-c188-ab13eb738ce8"
      },
      "source": [
        "x + 1"
      ],
      "execution_count": null,
      "outputs": [
        {
          "output_type": "execute_result",
          "data": {
            "text/plain": [
              "6"
            ]
          },
          "metadata": {},
          "execution_count": 81
        }
      ]
    },
    {
      "cell_type": "code",
      "metadata": {
        "id": "3vltzq-M-pTE",
        "colab": {
          "base_uri": "https://localhost:8080/"
        },
        "outputId": "6d06149c-fe19-4e4a-dec7-b64780b4c4d8"
      },
      "source": [
        "from google.colab import drive\n",
        "drive.mount('/my-drive')\n",
        "%cd /my-drive/"
      ],
      "execution_count": null,
      "outputs": [
        {
          "output_type": "stream",
          "name": "stdout",
          "text": [
            "Drive already mounted at /my-drive; to attempt to forcibly remount, call drive.mount(\"/my-drive\", force_remount=True).\n",
            "/my-drive\n"
          ]
        }
      ]
    },
    {
      "cell_type": "code",
      "metadata": {
        "id": "7RxF7atIyAl9",
        "colab": {
          "base_uri": "https://localhost:8080/"
        },
        "outputId": "e17893e7-af06-4fd6-ad93-57b6acebfa67"
      },
      "source": [
        "%cd /my-drive/script.ipynb\n",
        "\n",
        "# como rodar um script a partir do jupyter notebook:\n",
        "%run -i script.ipynb"
      ],
      "execution_count": null,
      "outputs": [
        {
          "output_type": "stream",
          "name": "stderr",
          "text": [
            "ERROR:root:File `'script.ipynb.py'` not found.\n"
          ]
        },
        {
          "output_type": "stream",
          "name": "stdout",
          "text": [
            "[Errno 2] No such file or directory: '/my-drive/script.ipynb'\n",
            "/my-drive\n"
          ]
        }
      ]
    },
    {
      "cell_type": "markdown",
      "metadata": {
        "id": "9K0YVGLjyAmA"
      },
      "source": [
        "## Ordem das Operações\n",
        "\n",
        "Quando mais de um operador aparece em uma expressão, a ordem de avaliação depende das **regras de precedência**. Para operadores matemáticos, o **Python segue a convenção matemática**. O acrônimo **PEMDAS (Parênteses, Exponenciação, Multiplicação e Divisão)** é uma maneira útil de lembrar as regras:\n",
        "\n",
        "**P**arênteses: têm a precedência mais alta e podem ser usados para forçar uma expressão a ser avaliada na ordem desejada. As expressões entre parênteses são avaliadas primeiro.\n",
        "\n",
        "Você também pode usar parênteses para melhorar a legibilidade, mesmo não alterando o resultado."
      ]
    },
    {
      "cell_type": "code",
      "metadata": {
        "id": "h4j1JDFxyAmA",
        "colab": {
          "base_uri": "https://localhost:8080/"
        },
        "outputId": "31b06e84-26bc-40a9-f6e4-97f07fc1cdef"
      },
      "source": [
        "2 * (3 - 1)"
      ],
      "execution_count": null,
      "outputs": [
        {
          "output_type": "execute_result",
          "data": {
            "text/plain": [
              "4"
            ]
          },
          "metadata": {},
          "execution_count": 84
        }
      ]
    },
    {
      "cell_type": "code",
      "metadata": {
        "id": "7f3yC-CEyAmD",
        "colab": {
          "base_uri": "https://localhost:8080/"
        },
        "outputId": "ae8dc583-495d-47c1-9c48-41d66d7dcdcc"
      },
      "source": [
        "(1 + 1)**(5 - 2)"
      ],
      "execution_count": null,
      "outputs": [
        {
          "output_type": "execute_result",
          "data": {
            "text/plain": [
              "8"
            ]
          },
          "metadata": {},
          "execution_count": 85
        }
      ]
    },
    {
      "cell_type": "code",
      "metadata": {
        "id": "pH750EvYyAmF",
        "colab": {
          "base_uri": "https://localhost:8080/"
        },
        "outputId": "308b1281-afdb-4a93-a1aa-57a9b28f4590"
      },
      "source": [
        "(n_alunos * 100) / 60"
      ],
      "execution_count": null,
      "outputs": [
        {
          "output_type": "execute_result",
          "data": {
            "text/plain": [
              "41.666666666666664"
            ]
          },
          "metadata": {},
          "execution_count": 86
        }
      ]
    },
    {
      "cell_type": "markdown",
      "metadata": {
        "id": "cxN4MvhNyAmH"
      },
      "source": [
        "**E**xponenciação: tem a segunda precedência mais alta:"
      ]
    },
    {
      "cell_type": "code",
      "metadata": {
        "id": "WMRKhSxeyAmH",
        "colab": {
          "base_uri": "https://localhost:8080/"
        },
        "outputId": "35656042-884b-44ca-8d7f-058a34b74a81"
      },
      "source": [
        "2 ** 1 + 1"
      ],
      "execution_count": null,
      "outputs": [
        {
          "output_type": "execute_result",
          "data": {
            "text/plain": [
              "3"
            ]
          },
          "metadata": {},
          "execution_count": 87
        }
      ]
    },
    {
      "cell_type": "code",
      "metadata": {
        "id": "X1SZYx89yAmK",
        "colab": {
          "base_uri": "https://localhost:8080/"
        },
        "outputId": "e75e3848-1e58-4f0f-c647-27b40b7ebce7"
      },
      "source": [
        "3 * 1 ** 3"
      ],
      "execution_count": null,
      "outputs": [
        {
          "output_type": "execute_result",
          "data": {
            "text/plain": [
              "3"
            ]
          },
          "metadata": {},
          "execution_count": 88
        }
      ]
    },
    {
      "cell_type": "markdown",
      "metadata": {
        "id": "9U1vUd1ayAmN"
      },
      "source": [
        "**M**ultiplicação e **D**ivisão: têm a mesma precedência, que é maior que **A**dição e **S**ubtração, que também têm a mesma precedência."
      ]
    },
    {
      "cell_type": "code",
      "metadata": {
        "id": "SsDu7MhmyAmO",
        "colab": {
          "base_uri": "https://localhost:8080/"
        },
        "outputId": "8473fe92-618c-4668-d4fe-1a19c2d94471"
      },
      "source": [
        "2 * 3 - 1"
      ],
      "execution_count": null,
      "outputs": [
        {
          "output_type": "execute_result",
          "data": {
            "text/plain": [
              "5"
            ]
          },
          "metadata": {},
          "execution_count": 89
        }
      ]
    },
    {
      "cell_type": "code",
      "metadata": {
        "id": "pmHofaQeyAmQ",
        "colab": {
          "base_uri": "https://localhost:8080/"
        },
        "outputId": "26933281-91fb-4387-809b-5bbd188de2ab"
      },
      "source": [
        "6 + 4/2"
      ],
      "execution_count": null,
      "outputs": [
        {
          "output_type": "execute_result",
          "data": {
            "text/plain": [
              "8.0"
            ]
          },
          "metadata": {},
          "execution_count": 90
        }
      ]
    },
    {
      "cell_type": "markdown",
      "metadata": {
        "id": "cGwkp5A7yAmS"
      },
      "source": [
        "***Na dúvida, use sempre parênteses!***"
      ]
    },
    {
      "cell_type": "markdown",
      "metadata": {
        "id": "LDYykqsryAmT"
      },
      "source": [
        "## Operações com Strings\n",
        "\n",
        "Em geral, **não é possível realizar operações matemáticas em strings**"
      ]
    },
    {
      "cell_type": "code",
      "metadata": {
        "id": "NCV21oC4yAmT",
        "colab": {
          "base_uri": "https://localhost:8080/",
          "height": 163
        },
        "outputId": "609272a8-1cbe-40e9-cf10-e92f55a1b2f3"
      },
      "source": [
        "'2' - '1'"
      ],
      "execution_count": null,
      "outputs": [
        {
          "output_type": "error",
          "ename": "TypeError",
          "evalue": "ignored",
          "traceback": [
            "\u001b[0;31m---------------------------------------------------------------------------\u001b[0m",
            "\u001b[0;31mTypeError\u001b[0m                                 Traceback (most recent call last)",
            "\u001b[0;32m<ipython-input-91-c3c854adf3eb>\u001b[0m in \u001b[0;36m<module>\u001b[0;34m()\u001b[0m\n\u001b[0;32m----> 1\u001b[0;31m \u001b[0;34m'2'\u001b[0m \u001b[0;34m-\u001b[0m \u001b[0;34m'1'\u001b[0m\u001b[0;34m\u001b[0m\u001b[0;34m\u001b[0m\u001b[0m\n\u001b[0m",
            "\u001b[0;31mTypeError\u001b[0m: unsupported operand type(s) for -: 'str' and 'str'"
          ]
        }
      ]
    },
    {
      "cell_type": "code",
      "metadata": {
        "id": "FieeOYMUyAmV",
        "colab": {
          "base_uri": "https://localhost:8080/",
          "height": 163
        },
        "outputId": "cc8e9ebd-7897-4301-ce0f-9bead6aae278"
      },
      "source": [
        "'quebrar' / 'ovos'"
      ],
      "execution_count": null,
      "outputs": [
        {
          "output_type": "error",
          "ename": "TypeError",
          "evalue": "ignored",
          "traceback": [
            "\u001b[0;31m---------------------------------------------------------------------------\u001b[0m",
            "\u001b[0;31mTypeError\u001b[0m                                 Traceback (most recent call last)",
            "\u001b[0;32m<ipython-input-92-188d66571968>\u001b[0m in \u001b[0;36m<module>\u001b[0;34m()\u001b[0m\n\u001b[0;32m----> 1\u001b[0;31m \u001b[0;34m'quebrar'\u001b[0m \u001b[0;34m/\u001b[0m \u001b[0;34m'ovos'\u001b[0m\u001b[0;34m\u001b[0m\u001b[0;34m\u001b[0m\u001b[0m\n\u001b[0m",
            "\u001b[0;31mTypeError\u001b[0m: unsupported operand type(s) for /: 'str' and 'str'"
          ]
        }
      ]
    },
    {
      "cell_type": "code",
      "metadata": {
        "id": "rdulv9iIyAmX",
        "colab": {
          "base_uri": "https://localhost:8080/",
          "height": 163
        },
        "outputId": "e6d4f835-0012-4fbb-9a6b-f2d021fcf36d"
      },
      "source": [
        "'acucar' * 'doce'"
      ],
      "execution_count": null,
      "outputs": [
        {
          "output_type": "error",
          "ename": "TypeError",
          "evalue": "ignored",
          "traceback": [
            "\u001b[0;31m---------------------------------------------------------------------------\u001b[0m",
            "\u001b[0;31mTypeError\u001b[0m                                 Traceback (most recent call last)",
            "\u001b[0;32m<ipython-input-93-cda8bbb9d3ff>\u001b[0m in \u001b[0;36m<module>\u001b[0;34m()\u001b[0m\n\u001b[0;32m----> 1\u001b[0;31m \u001b[0;34m'acucar'\u001b[0m \u001b[0;34m*\u001b[0m \u001b[0;34m'doce'\u001b[0m\u001b[0;34m\u001b[0m\u001b[0;34m\u001b[0m\u001b[0m\n\u001b[0m",
            "\u001b[0;31mTypeError\u001b[0m: can't multiply sequence by non-int of type 'str'"
          ]
        }
      ]
    },
    {
      "cell_type": "markdown",
      "metadata": {
        "id": "5w0g3eItyAmZ"
      },
      "source": [
        "#### O operador '+' pode ser aplicado a strings: ele realiza **concatenação**, o que significa unir as strings vinculando-as de ponta a ponta."
      ]
    },
    {
      "cell_type": "code",
      "metadata": {
        "id": "RKl-wf3-yAma",
        "colab": {
          "base_uri": "https://localhost:8080/"
        },
        "outputId": "328919b5-7954-4c0a-97f0-d203aa94bbe8"
      },
      "source": [
        "primeira_frase = 'mundo, mundo'\n",
        "segunda_frase = ', vasto mundo'\n",
        "print(primeira_frase + segunda_frase)"
      ],
      "execution_count": null,
      "outputs": [
        {
          "output_type": "stream",
          "name": "stdout",
          "text": [
            "mundo, mundo, vasto mundo\n"
          ]
        }
      ]
    },
    {
      "cell_type": "markdown",
      "metadata": {
        "id": "t9JkW-fLyAmc"
      },
      "source": [
        "#### O operador '*' também pode ser aplicado a strings. Porém um dos operandos tem que ser uma string e o outro um inteiro:"
      ]
    },
    {
      "cell_type": "code",
      "metadata": {
        "id": "l5H58WxqyAmc",
        "colab": {
          "base_uri": "https://localhost:8080/",
          "height": 35
        },
        "outputId": "b85d4b7e-843a-4d32-f730-340f00cf4a9c"
      },
      "source": [
        "'mundo'*4"
      ],
      "execution_count": null,
      "outputs": [
        {
          "output_type": "execute_result",
          "data": {
            "application/vnd.google.colaboratory.intrinsic+json": {
              "type": "string"
            },
            "text/plain": [
              "'mundomundomundomundo'"
            ]
          },
          "metadata": {},
          "execution_count": 96
        }
      ]
    },
    {
      "cell_type": "code",
      "metadata": {
        "id": "Hdg05v-2yAme",
        "colab": {
          "base_uri": "https://localhost:8080/",
          "height": 35
        },
        "outputId": "53e30e6a-58c1-4952-81dd-f8cf2ea46e7a"
      },
      "source": [
        "'mundo, '*2 + 'vasto mundo' "
      ],
      "execution_count": null,
      "outputs": [
        {
          "output_type": "execute_result",
          "data": {
            "application/vnd.google.colaboratory.intrinsic+json": {
              "type": "string"
            },
            "text/plain": [
              "'mundo, mundo, vasto mundo'"
            ]
          },
          "metadata": {},
          "execution_count": 97
        }
      ]
    },
    {
      "cell_type": "markdown",
      "metadata": {
        "id": "LIEmLrEiyAmg"
      },
      "source": [
        "## Comentários\n",
        "\n",
        "É recomendável adicionar observações aos seus programas para explicar em linguagem natural o que o programa está fazendo. Essas observações são chamadas de **comentários** e começam com o símbolo **#**.\n",
        "\n",
        "Um comentário é útil quando relata alguma característica não óbvia do programa."
      ]
    },
    {
      "cell_type": "code",
      "metadata": {
        "id": "W-wGB1sgyAmh",
        "colab": {
          "base_uri": "https://localhost:8080/"
        },
        "outputId": "e6f074f5-9d70-4c48-c930-031f9156feac"
      },
      "source": [
        "# Calcular a velocidade v de um corpo\n",
        "s = 100 # distância em metros\n",
        "t = 10 # tempo em segundos\n",
        "v = s/t\n",
        "print('velocidade = ', v, 'm/s')"
      ],
      "execution_count": null,
      "outputs": [
        {
          "output_type": "stream",
          "name": "stdout",
          "text": [
            "velocidade =  10.0 m/s\n"
          ]
        }
      ]
    },
    {
      "cell_type": "markdown",
      "metadata": {
        "id": "7XRiXmw5yAmj"
      },
      "source": [
        "Exemplo de comentário inútil:"
      ]
    },
    {
      "cell_type": "code",
      "metadata": {
        "id": "4jSqqx_OyAmk"
      },
      "source": [
        "s = 100 # atribui o valor 100 a s. "
      ],
      "execution_count": null,
      "outputs": []
    },
    {
      "cell_type": "markdown",
      "metadata": {
        "id": "gu34FLdpyAmn"
      },
      "source": [
        "A escolha de bons nomes de variáveis, diminui o número de comentários necessários:"
      ]
    },
    {
      "cell_type": "code",
      "metadata": {
        "id": "mP_22gxMyAmo",
        "colab": {
          "base_uri": "https://localhost:8080/"
        },
        "outputId": "01f65549-d991-420b-8ea4-4942113ff5d4"
      },
      "source": [
        "# Calcular a velocidade em m/s de um corpo\n",
        "distancia = 100 \n",
        "tempo = 10 \n",
        "velocidade = distancia/tempo\n",
        "print(velocidade, 'm/s')"
      ],
      "execution_count": null,
      "outputs": [
        {
          "output_type": "stream",
          "name": "stdout",
          "text": [
            "10.0 m/s\n"
          ]
        }
      ]
    },
    {
      "cell_type": "markdown",
      "metadata": {
        "id": "Pg2nZDTayAmq"
      },
      "source": [
        "## Debugging\n",
        "\n",
        "Os **erros de sintaxe** mais comuns até aqui devem ser:\n",
        "\n",
        "* ***nome de variável ilegal (não permitido)***:\n",
        "   * *class* e *yield*, que são palavras-chave (keyword)\n",
        "   * *meu-nome* e *R$*, que contêm caracteres ilegais.\n",
        "\n",
        "Se você colocar um espaço em um nome de variável, o Python acha que são dois operandos sem um operador:"
      ]
    },
    {
      "cell_type": "code",
      "metadata": {
        "id": "ahiFLzTUyAmr",
        "colab": {
          "base_uri": "https://localhost:8080/",
          "height": 129
        },
        "outputId": "eab883b6-03cc-40f2-d6ee-0921571c83ed"
      },
      "source": [
        "nome ruim de variavel = 5"
      ],
      "execution_count": null,
      "outputs": [
        {
          "output_type": "error",
          "ename": "SyntaxError",
          "evalue": "ignored",
          "traceback": [
            "\u001b[0;36m  File \u001b[0;32m\"<ipython-input-101-2525dea9ab01>\"\u001b[0;36m, line \u001b[0;32m1\u001b[0m\n\u001b[0;31m    nome ruim de variavel = 5\u001b[0m\n\u001b[0m            ^\u001b[0m\n\u001b[0;31mSyntaxError\u001b[0m\u001b[0;31m:\u001b[0m invalid syntax\n"
          ]
        }
      ]
    },
    {
      "cell_type": "markdown",
      "metadata": {
        "id": "1lACCLu_yAmv"
      },
      "source": [
        "As mensagens mais comuns são SyntaxError: sintaxe inválida e SyntaxError: token inválido, nenhum dos quais é muito informativo.\n",
        "\n",
        "O **erro de execução** que você provavelmente mais encontrará é a de **tentativa de uso de uma variável antes antes de atribuir um valor (*use before def*)**. Isso pode acontecer quando se soletra um nome de variável errado:"
      ]
    },
    {
      "cell_type": "code",
      "metadata": {
        "id": "VExIEYFUyAmv",
        "colab": {
          "base_uri": "https://localhost:8080/",
          "height": 214
        },
        "outputId": "92bfe98d-0297-481b-c22d-453b08ba5da7"
      },
      "source": [
        "# cálculo do IMC de um bebê\n",
        "massa = 11 # em Kg\n",
        "altura = 0.70 # m\n",
        "imc = mass/altura**2 \n",
        "print(imc)"
      ],
      "execution_count": null,
      "outputs": [
        {
          "output_type": "error",
          "ename": "NameError",
          "evalue": "ignored",
          "traceback": [
            "\u001b[0;31m---------------------------------------------------------------------------\u001b[0m",
            "\u001b[0;31mNameError\u001b[0m                                 Traceback (most recent call last)",
            "\u001b[0;32m<ipython-input-102-f04b3748c689>\u001b[0m in \u001b[0;36m<module>\u001b[0;34m()\u001b[0m\n\u001b[1;32m      2\u001b[0m \u001b[0mmassa\u001b[0m \u001b[0;34m=\u001b[0m \u001b[0;36m11\u001b[0m \u001b[0;31m# em Kg\u001b[0m\u001b[0;34m\u001b[0m\u001b[0;34m\u001b[0m\u001b[0m\n\u001b[1;32m      3\u001b[0m \u001b[0maltura\u001b[0m \u001b[0;34m=\u001b[0m \u001b[0;36m0.70\u001b[0m \u001b[0;31m# m\u001b[0m\u001b[0;34m\u001b[0m\u001b[0;34m\u001b[0m\u001b[0m\n\u001b[0;32m----> 4\u001b[0;31m \u001b[0mimc\u001b[0m \u001b[0;34m=\u001b[0m \u001b[0mmass\u001b[0m\u001b[0;34m/\u001b[0m\u001b[0maltura\u001b[0m\u001b[0;34m**\u001b[0m\u001b[0;36m2\u001b[0m\u001b[0;34m\u001b[0m\u001b[0;34m\u001b[0m\u001b[0m\n\u001b[0m\u001b[1;32m      5\u001b[0m \u001b[0mprint\u001b[0m\u001b[0;34m(\u001b[0m\u001b[0mimc\u001b[0m\u001b[0;34m)\u001b[0m\u001b[0;34m\u001b[0m\u001b[0;34m\u001b[0m\u001b[0m\n",
            "\u001b[0;31mNameError\u001b[0m: name 'mass' is not defined"
          ]
        }
      ]
    },
    {
      "cell_type": "markdown",
      "metadata": {
        "id": "xzrpx4qNyAmz"
      },
      "source": [
        "Os **erros de semântica** mais comuns até aqui devem ser os de precedência de operações matemáticas. Por exemplo, se você quer calcular 1/(2pi):"
      ]
    },
    {
      "cell_type": "code",
      "metadata": {
        "id": "uYtTBiEDyAm0",
        "colab": {
          "base_uri": "https://localhost:8080/"
        },
        "outputId": "7903ae25-7bdf-4c71-c9f3-982b23e3451c"
      },
      "source": [
        "pi = 3.14\n",
        "1/2*pi"
      ],
      "execution_count": null,
      "outputs": [
        {
          "output_type": "execute_result",
          "data": {
            "text/plain": [
              "1.57"
            ]
          },
          "metadata": {},
          "execution_count": 103
        }
      ]
    },
    {
      "cell_type": "code",
      "metadata": {
        "id": "FYBKn0PxyAm2",
        "colab": {
          "base_uri": "https://localhost:8080/"
        },
        "outputId": "b784fac8-2597-400b-ed65-fb13f677a265"
      },
      "source": [
        "1/(2*pi)"
      ],
      "execution_count": null,
      "outputs": [
        {
          "output_type": "execute_result",
          "data": {
            "text/plain": [
              "0.1592356687898089"
            ]
          },
          "metadata": {},
          "execution_count": 105
        }
      ]
    },
    {
      "cell_type": "markdown",
      "metadata": {
        "id": "Vz8GxGVqyAm5"
      },
      "source": [
        "## Exercícios\n",
        "\n",
        "### Exercício 1:\n",
        "Considere as seguintes declarações de atribuições:\n",
        "   * largura = 17 \n",
        "   * altura = 12.0\n",
        "   * delimitador = \".\"\n",
        "   \n",
        "Para cada uma das expressões a seguir, escreva o valor das expressões e o tipo (do valor da expressão):\n",
        "1. largura/2\n",
        "1. largura/2.0\n",
        "1. altura/3\n",
        "1. 1 + 2 * 5\n",
        "1. delimitador*5\n",
        "\n",
        "\n",
        "\n",
        "Use o interpretador de python para verificar suas respostas.\n",
        "\n",
        "### Exercício 2:\n",
        "O volume de uma esfera de raio *r* é $\\frac{4}{3} \\pi r^{3}$ \n",
        "\n",
        "Qual é o volume de uma esfera de raio 5?\n",
        "\n",
        "### Exercício 3:\n",
        "Suponha que o preço de um livro seja 24.95 reais, porém as livrarias têm desconto de 40%. Os custos de envio são de 3.00 reais para o primeiro livro e 0.75 reais para os livros adicionais. Qual é o custo total da compra de 60 livros?  \n",
        "\n",
        "### Exercício 4:\n",
        "Um laser vermelho (com comprimento de onda $\\lambda = 632.8$ nm) incide em uma fenda dupla produzindo um padrão de interferência com franjas claras e escuras, em um anteparo situado a uma distância D = 1.98 m da fenda. Calcule a distância $\\Delta y$ entre dois máximos consecutivos de interferência. Considere o espaçamento entre as fendas, $d$, como sendo igual a 0.250 mm.\n",
        "*Dica: a distância entre dois máximos de interferência consecutivos pode ser aproximada por $\\Delta y = \\frac{\\lambda D}{d}$.*"
      ]
    },
    {
      "cell_type": "markdown",
      "metadata": {
        "id": "gGpKIv96_bBZ"
      },
      "source": [
        " # Exercicio 1"
      ]
    },
    {
      "cell_type": "code",
      "metadata": {
        "id": "NNw6uulW7uKx",
        "colab": {
          "base_uri": "https://localhost:8080/"
        },
        "outputId": "280ca08d-c7c8-4d8b-d01e-05fada36926e"
      },
      "source": [
        "#exercicio 1\n",
        "print(17/2)\n",
        "print(17/2.0)\n",
        "print(12.0/3)\n",
        "print(1+2*5)\n",
        "print(\".\"*5)"
      ],
      "execution_count": null,
      "outputs": [
        {
          "output_type": "stream",
          "name": "stdout",
          "text": [
            "8.5\n",
            "8.5\n",
            "4.0\n",
            "11\n",
            ".....\n"
          ]
        }
      ]
    },
    {
      "cell_type": "code",
      "metadata": {
        "id": "X_R0wtVi-0RC",
        "colab": {
          "base_uri": "https://localhost:8080/"
        },
        "outputId": "ccfdb086-f3c0-49b0-d626-3c57512649da"
      },
      "source": [
        "type(17/2)"
      ],
      "execution_count": null,
      "outputs": [
        {
          "output_type": "execute_result",
          "data": {
            "text/plain": [
              "float"
            ]
          },
          "metadata": {},
          "execution_count": 127
        }
      ]
    },
    {
      "cell_type": "code",
      "metadata": {
        "id": "KcRj1WVI-spC",
        "colab": {
          "base_uri": "https://localhost:8080/"
        },
        "outputId": "3d2a5439-593d-4d49-a666-cc323b6ec777"
      },
      "source": [
        "type(17/2.0)"
      ],
      "execution_count": null,
      "outputs": [
        {
          "output_type": "execute_result",
          "data": {
            "text/plain": [
              "float"
            ]
          },
          "metadata": {},
          "execution_count": 126
        }
      ]
    },
    {
      "cell_type": "code",
      "metadata": {
        "id": "1uDcs0fB-9mj",
        "colab": {
          "base_uri": "https://localhost:8080/"
        },
        "outputId": "5a420b88-355f-4c0e-b1f9-2ed7aa594f45"
      },
      "source": [
        "type(12.0/3)"
      ],
      "execution_count": null,
      "outputs": [
        {
          "output_type": "execute_result",
          "data": {
            "text/plain": [
              "float"
            ]
          },
          "metadata": {},
          "execution_count": 128
        }
      ]
    },
    {
      "cell_type": "code",
      "metadata": {
        "id": "xtgDnm00_BhK",
        "colab": {
          "base_uri": "https://localhost:8080/"
        },
        "outputId": "ebeef227-0041-4647-e647-eac837494c85"
      },
      "source": [
        "type(1+2*5)"
      ],
      "execution_count": null,
      "outputs": [
        {
          "output_type": "execute_result",
          "data": {
            "text/plain": [
              "int"
            ]
          },
          "metadata": {},
          "execution_count": 129
        }
      ]
    },
    {
      "cell_type": "code",
      "metadata": {
        "id": "Tb0qDaJb_Hfc",
        "colab": {
          "base_uri": "https://localhost:8080/"
        },
        "outputId": "fe844aee-57b1-4ba9-fde1-f88146007c3d"
      },
      "source": [
        "type(\".\"*5)"
      ],
      "execution_count": null,
      "outputs": [
        {
          "output_type": "execute_result",
          "data": {
            "text/plain": [
              "str"
            ]
          },
          "metadata": {},
          "execution_count": 131
        }
      ]
    },
    {
      "cell_type": "markdown",
      "metadata": {
        "id": "0n8VwW8h_gQp"
      },
      "source": [
        "# Exercicio 2"
      ]
    },
    {
      "cell_type": "code",
      "metadata": {
        "id": "c8FhWXBI_iR6",
        "colab": {
          "base_uri": "https://localhost:8080/"
        },
        "outputId": "d1092d35-f0d8-4a4a-8eb4-b691e2036359"
      },
      "source": [
        "\n",
        "V=(4/3)*pi*r**3\n",
        "r=5\n",
        "print(V)"
      ],
      "execution_count": null,
      "outputs": [
        {
          "output_type": "stream",
          "name": "stdout",
          "text": [
            "523.3333333333334\n"
          ]
        }
      ]
    },
    {
      "cell_type": "markdown",
      "metadata": {
        "id": "ApWStk60yAm4"
      },
      "source": [
        "## Glossário\n",
        "\n",
        "* **valor:** Uma das unidades básicas de dados, como um número ou string, que um programa manipula.\n",
        "* **tipo:** Uma categoria de valores. Os tipos que vimos até agora são inteiros (tipo int), números de ponto flutuante (tipo float) e strings (tipo str).\n",
        "* **inteiro:** Um tipo que representa números inteiros.\n",
        "* **ponto flutuante:** Um tipo que representa números com partes fracionárias.\n",
        "* **string:** Um tipo que representa sequências de caracteres.\n",
        "* **variável:** Um nome que se refere a um valor.\n",
        "* **declaração:** Uma seção de código que representa um comando ou ação. Até agora, as declarações que temos visto são atribuições e declarações impressas.\n",
        "* **atribuição:** Uma declaração que atribui um valor a uma variável.\n",
        "* **palavra chave:** Uma palavra reservada que é usada pelo compilador para analisar um programa; você não pode usar palavras-chave como if, def e while como nomes de variáveis.\n",
        "* **operador:** Um símbolo especial que representa um cálculo simples, como adição, multiplicação ou concatenação de string.\n",
        "* **operando:** Um dos valores nos quais um operador opera.\n",
        "* **divisão de piso:** A operação que divide dois números e corta a parte fracionária.\n",
        "* **expressão:** Uma combinação de variáveis, operadores e valores que representa um único valor de resultado.\n",
        "* **Estimar/calcular:** Simplificar uma expressão executando as operações para gerar um único valor.\n",
        "* **regras de precedência:** O conjunto de regras que governam a ordem na qual as expressões envolvendo vários operadores e operandos são avaliadas.\n",
        "* **concatenar:** Unir dois operandos de ponta a ponta.\n",
        "* **Comentar:** Informações em um programa destinado a outros programadores (ou qualquer pessoa que esteja lendo o código-fonte) e não tem efeito sobre a execução do programa."
      ]
    }
  ]
}